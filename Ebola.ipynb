{
 "cells": [
  {
   "cell_type": "markdown",
   "metadata": {},
   "source": [
    "# Ebola Cases and Deaths\n",
    "---"
   ]
  },
  {
   "cell_type": "code",
   "execution_count": 1,
   "metadata": {},
   "outputs": [],
   "source": [
    "import pandas as pd\n",
    "import re"
   ]
  },
  {
   "cell_type": "code",
   "execution_count": 2,
   "metadata": {},
   "outputs": [],
   "source": [
    "ebola = pd.read_csv('ebola_data_db_format.csv')"
   ]
  },
  {
   "cell_type": "code",
   "execution_count": 3,
   "metadata": {},
   "outputs": [
    {
     "data": {
      "text/html": [
       "<div>\n",
       "<style scoped>\n",
       "    .dataframe tbody tr th:only-of-type {\n",
       "        vertical-align: middle;\n",
       "    }\n",
       "\n",
       "    .dataframe tbody tr th {\n",
       "        vertical-align: top;\n",
       "    }\n",
       "\n",
       "    .dataframe thead th {\n",
       "        text-align: right;\n",
       "    }\n",
       "</style>\n",
       "<table border=\"1\" class=\"dataframe\">\n",
       "  <thead>\n",
       "    <tr style=\"text-align: right;\">\n",
       "      <th></th>\n",
       "      <th>Indicator</th>\n",
       "      <th>Country</th>\n",
       "      <th>Date</th>\n",
       "      <th>value</th>\n",
       "    </tr>\n",
       "  </thead>\n",
       "  <tbody>\n",
       "    <tr>\n",
       "      <th>0</th>\n",
       "      <td>Cumulative number of confirmed, probable and s...</td>\n",
       "      <td>Guinea</td>\n",
       "      <td>2015-03-10</td>\n",
       "      <td>3285.0</td>\n",
       "    </tr>\n",
       "    <tr>\n",
       "      <th>1</th>\n",
       "      <td>Cumulative number of confirmed Ebola cases</td>\n",
       "      <td>Guinea</td>\n",
       "      <td>2015-03-10</td>\n",
       "      <td>2871.0</td>\n",
       "    </tr>\n",
       "    <tr>\n",
       "      <th>2</th>\n",
       "      <td>Cumulative number of probable Ebola cases</td>\n",
       "      <td>Guinea</td>\n",
       "      <td>2015-03-10</td>\n",
       "      <td>392.0</td>\n",
       "    </tr>\n",
       "    <tr>\n",
       "      <th>3</th>\n",
       "      <td>Cumulative number of suspected Ebola cases</td>\n",
       "      <td>Guinea</td>\n",
       "      <td>2015-03-10</td>\n",
       "      <td>22.0</td>\n",
       "    </tr>\n",
       "    <tr>\n",
       "      <th>4</th>\n",
       "      <td>Cumulative number of confirmed, probable and s...</td>\n",
       "      <td>Guinea</td>\n",
       "      <td>2015-03-10</td>\n",
       "      <td>2170.0</td>\n",
       "    </tr>\n",
       "  </tbody>\n",
       "</table>\n",
       "</div>"
      ],
      "text/plain": [
       "                                           Indicator Country        Date  \\\n",
       "0  Cumulative number of confirmed, probable and s...  Guinea  2015-03-10   \n",
       "1         Cumulative number of confirmed Ebola cases  Guinea  2015-03-10   \n",
       "2          Cumulative number of probable Ebola cases  Guinea  2015-03-10   \n",
       "3         Cumulative number of suspected Ebola cases  Guinea  2015-03-10   \n",
       "4  Cumulative number of confirmed, probable and s...  Guinea  2015-03-10   \n",
       "\n",
       "    value  \n",
       "0  3285.0  \n",
       "1  2871.0  \n",
       "2   392.0  \n",
       "3    22.0  \n",
       "4  2170.0  "
      ]
     },
     "execution_count": 3,
     "metadata": {},
     "output_type": "execute_result"
    }
   ],
   "source": [
    "ebola.head()"
   ]
  },
  {
   "cell_type": "code",
   "execution_count": 4,
   "metadata": {},
   "outputs": [
    {
     "data": {
      "text/plain": [
       "array(['Cumulative number of confirmed, probable and suspected Ebola cases',\n",
       "       'Cumulative number of confirmed Ebola cases',\n",
       "       'Cumulative number of probable Ebola cases',\n",
       "       'Cumulative number of suspected Ebola cases',\n",
       "       'Cumulative number of confirmed, probable and suspected Ebola deaths',\n",
       "       'Cumulative number of confirmed Ebola deaths',\n",
       "       'Cumulative number of probable Ebola deaths',\n",
       "       'Cumulative number of suspected Ebola deaths',\n",
       "       'Number of confirmed Ebola cases in the last 21 days',\n",
       "       'Number of confirmed, probable and suspected Ebola cases in the last 21 days',\n",
       "       'Number of probable Ebola cases in the last 21 days',\n",
       "       'Number of confirmed Ebola cases in the last 7 days',\n",
       "       'Number of probable Ebola cases in the last 7 days',\n",
       "       'Number of suspected Ebola cases in the last 7 days',\n",
       "       'Number of confirmed, probable and suspected Ebola cases in the last 7 days',\n",
       "       'Proportion of confirmed Ebola cases that are from the last 7 days',\n",
       "       'Proportion of probable Ebola cases that are from the last 7 days',\n",
       "       'Proportion of suspected Ebola cases that are from the last 7 days',\n",
       "       'Proportion of confirmed, probable and suspected Ebola cases that are from the last 7 days',\n",
       "       'Number of suspected Ebola cases in the last 21 days',\n",
       "       'Proportion of confirmed Ebola cases that are from the last 21 days',\n",
       "       'Proportion of probable Ebola cases that are from the last 21 days',\n",
       "       'Proportion of suspected Ebola cases that are from the last 21 days',\n",
       "       'Proportion of confirmed, probable and suspected Ebola cases that are from the last 21 days',\n",
       "       'Case fatality rate (CFR) of confirmed Ebola cases',\n",
       "       'Case fatality rate (CFR) of probable Ebola cases',\n",
       "       'Case fatality rate (CFR) of suspected Ebola cases',\n",
       "       'Case fatality rate (CFR) of confirmed, probable and suspected Ebola cases',\n",
       "       'Number of confirmed Ebola deaths in the last 21 days',\n",
       "       'Number of probable Ebola deaths in the last 21 days',\n",
       "       'Number of suspected Ebola deaths in the last 21 days',\n",
       "       'Number of confirmed, probable and suspected Ebola deaths in the last 21 days',\n",
       "       'Proportion of confirmed Ebola deaths that are from the last 21 days',\n",
       "       'Proportion of probable Ebola deaths that are from the last 21 days',\n",
       "       'Proportion of suspected Ebola deaths that are from the last 21 days',\n",
       "       'Proportion of confirmed, probable and suspected Ebola deaths that are from the last 21 days'],\n",
       "      dtype=object)"
      ]
     },
     "execution_count": 4,
     "metadata": {},
     "output_type": "execute_result"
    }
   ],
   "source": [
    "ebola.Indicator.unique()"
   ]
  },
  {
   "cell_type": "code",
   "execution_count": 5,
   "metadata": {
    "scrolled": true
   },
   "outputs": [
    {
     "data": {
      "text/plain": [
       "Indicator    0\n",
       "Country      0\n",
       "Date         0\n",
       "value        0\n",
       "dtype: int64"
      ]
     },
     "execution_count": 5,
     "metadata": {},
     "output_type": "execute_result"
    }
   ],
   "source": [
    "ebola.isnull().sum()"
   ]
  },
  {
   "cell_type": "code",
   "execution_count": 6,
   "metadata": {},
   "outputs": [
    {
     "data": {
      "text/plain": [
       "(17585, 4)"
      ]
     },
     "execution_count": 6,
     "metadata": {},
     "output_type": "execute_result"
    }
   ],
   "source": [
    "ebola.shape"
   ]
  },
  {
   "cell_type": "code",
   "execution_count": 7,
   "metadata": {},
   "outputs": [],
   "source": [
    "country = ebola.Country.tolist()\n",
    "date = ebola.Date.tolist()\n",
    "value = ebola.value.tolist()\n",
    "measure = [m.split(' ')[0] for m in ebola.Indicator]\n",
    "case = ['cases' if 'cases' in c else 'deaths' for c in ebola.Indicator]\n",
    "types = ['total' if (('confirmed' in t) and ('probable' in t) and ('suspected' in t)) else 'confirmed' if 'confirmed' in t\n",
    "                    else 'probable' if 'probable' in t else 'suspected' for t in ebola.Indicator]\n",
    "\n",
    "duration = []\n",
    "for d in ebola.Indicator:\n",
    "    try:\n",
    "        isinstance([int(a) for a in re.findall(r'\\b\\d+\\b', d)][0], int)\n",
    "        duration.append([int(a) for a in re.findall(r'\\b\\d+\\b', d)][0])\n",
    "    except:\n",
    "        duration.append('Lifetime')"
   ]
  },
  {
   "cell_type": "code",
   "execution_count": 8,
   "metadata": {},
   "outputs": [],
   "source": [
    "df = pd.DataFrame({'measure':measure,'case':case,'types':types,'duration':duration,'country':country,'date':date,'value':value})"
   ]
  },
  {
   "cell_type": "code",
   "execution_count": 9,
   "metadata": {},
   "outputs": [
    {
     "data": {
      "text/html": [
       "<div>\n",
       "<style scoped>\n",
       "    .dataframe tbody tr th:only-of-type {\n",
       "        vertical-align: middle;\n",
       "    }\n",
       "\n",
       "    .dataframe tbody tr th {\n",
       "        vertical-align: top;\n",
       "    }\n",
       "\n",
       "    .dataframe thead th {\n",
       "        text-align: right;\n",
       "    }\n",
       "</style>\n",
       "<table border=\"1\" class=\"dataframe\">\n",
       "  <thead>\n",
       "    <tr style=\"text-align: right;\">\n",
       "      <th></th>\n",
       "      <th>measure</th>\n",
       "      <th>case</th>\n",
       "      <th>types</th>\n",
       "      <th>duration</th>\n",
       "      <th>country</th>\n",
       "      <th>date</th>\n",
       "      <th>value</th>\n",
       "    </tr>\n",
       "  </thead>\n",
       "  <tbody>\n",
       "    <tr>\n",
       "      <th>0</th>\n",
       "      <td>Cumulative</td>\n",
       "      <td>cases</td>\n",
       "      <td>total</td>\n",
       "      <td>Lifetime</td>\n",
       "      <td>Guinea</td>\n",
       "      <td>2015-03-10</td>\n",
       "      <td>3285.0</td>\n",
       "    </tr>\n",
       "    <tr>\n",
       "      <th>1</th>\n",
       "      <td>Cumulative</td>\n",
       "      <td>cases</td>\n",
       "      <td>confirmed</td>\n",
       "      <td>Lifetime</td>\n",
       "      <td>Guinea</td>\n",
       "      <td>2015-03-10</td>\n",
       "      <td>2871.0</td>\n",
       "    </tr>\n",
       "    <tr>\n",
       "      <th>2</th>\n",
       "      <td>Cumulative</td>\n",
       "      <td>cases</td>\n",
       "      <td>probable</td>\n",
       "      <td>Lifetime</td>\n",
       "      <td>Guinea</td>\n",
       "      <td>2015-03-10</td>\n",
       "      <td>392.0</td>\n",
       "    </tr>\n",
       "    <tr>\n",
       "      <th>3</th>\n",
       "      <td>Cumulative</td>\n",
       "      <td>cases</td>\n",
       "      <td>suspected</td>\n",
       "      <td>Lifetime</td>\n",
       "      <td>Guinea</td>\n",
       "      <td>2015-03-10</td>\n",
       "      <td>22.0</td>\n",
       "    </tr>\n",
       "    <tr>\n",
       "      <th>4</th>\n",
       "      <td>Cumulative</td>\n",
       "      <td>deaths</td>\n",
       "      <td>total</td>\n",
       "      <td>Lifetime</td>\n",
       "      <td>Guinea</td>\n",
       "      <td>2015-03-10</td>\n",
       "      <td>2170.0</td>\n",
       "    </tr>\n",
       "  </tbody>\n",
       "</table>\n",
       "</div>"
      ],
      "text/plain": [
       "      measure    case      types  duration country        date   value\n",
       "0  Cumulative   cases      total  Lifetime  Guinea  2015-03-10  3285.0\n",
       "1  Cumulative   cases  confirmed  Lifetime  Guinea  2015-03-10  2871.0\n",
       "2  Cumulative   cases   probable  Lifetime  Guinea  2015-03-10   392.0\n",
       "3  Cumulative   cases  suspected  Lifetime  Guinea  2015-03-10    22.0\n",
       "4  Cumulative  deaths      total  Lifetime  Guinea  2015-03-10  2170.0"
      ]
     },
     "execution_count": 9,
     "metadata": {},
     "output_type": "execute_result"
    }
   ],
   "source": [
    "df.head()"
   ]
  },
  {
   "cell_type": "code",
   "execution_count": 10,
   "metadata": {},
   "outputs": [
    {
     "name": "stdout",
     "output_type": "stream",
     "text": [
      "<class 'pandas.core.frame.DataFrame'>\n",
      "RangeIndex: 17585 entries, 0 to 17584\n",
      "Data columns (total 7 columns):\n",
      "measure     17585 non-null object\n",
      "case        17585 non-null object\n",
      "types       17585 non-null object\n",
      "duration    17585 non-null object\n",
      "country     17585 non-null object\n",
      "date        17585 non-null object\n",
      "value       17585 non-null float64\n",
      "dtypes: float64(1), object(6)\n",
      "memory usage: 961.8+ KB\n"
     ]
    }
   ],
   "source": [
    "df.info()"
   ]
  }
 ],
 "metadata": {
  "kernelspec": {
   "display_name": "Python 3",
   "language": "python",
   "name": "python3"
  },
  "language_info": {
   "codemirror_mode": {
    "name": "ipython",
    "version": 3
   },
   "file_extension": ".py",
   "mimetype": "text/x-python",
   "name": "python",
   "nbconvert_exporter": "python",
   "pygments_lexer": "ipython3",
   "version": "3.6.9"
  }
 },
 "nbformat": 4,
 "nbformat_minor": 2
}
